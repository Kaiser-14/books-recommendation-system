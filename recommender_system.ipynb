{
  "nbformat": 4,
  "nbformat_minor": 0,
  "metadata": {
    "colab": {
      "name": "recommender_system.ipynb",
      "provenance": [],
      "collapsed_sections": [],
      "toc_visible": true,
      "include_colab_link": true
    },
    "kernelspec": {
      "name": "python3",
      "display_name": "Python 3"
    }
  },
  "cells": [
    {
      "cell_type": "markdown",
      "metadata": {
        "id": "view-in-github",
        "colab_type": "text"
      },
      "source": [
        "<a href=\"https://colab.research.google.com/github/Kaiser-14/books-recommendation-system/blob/master/recommender_system.ipynb\" target=\"_parent\"><img src=\"https://colab.research.google.com/assets/colab-badge.svg\" alt=\"Open In Colab\"/></a>"
      ]
    },
    {
      "cell_type": "markdown",
      "metadata": {
        "id": "JF6ktcKDLgFv",
        "colab_type": "text"
      },
      "source": [
        "# Recommender System for Books\n",
        "\n"
      ]
    },
    {
      "cell_type": "markdown",
      "metadata": {
        "id": "qQ0nM24rb8fV",
        "colab_type": "text"
      },
      "source": [
        "## Summary"
      ]
    },
    {
      "cell_type": "markdown",
      "metadata": {
        "id": "4uPyJ0rub_W4",
        "colab_type": "text"
      },
      "source": [
        "In this practice you will create a recommender system for movies! You will explore two simple ways one based on simple correlations between data and the other using a Content Based approach. Finally, you will explore how to create a more complex recommender using Collaborative Filtering from the Spark library in Python.\n",
        "\n",
        "**Important notes**\n",
        "\n",
        "For this practice is highly recommended use Google Colab (https://colab.research.google.com) due to is an online tool to work directly with Jupyter notebooks. By default, a lot of important libraries for python are directly available in this environment. The main reasons are the following:\n",
        "\n",
        "*   The datasets provided for movies recommendation have a lot of data and depends on your computer you can be not able to process the data due to memory problems.\n",
        "*   The second part is intended to use a more complex tool (Spark) that provide a lot of methods to perform recommendations. Install all the necessary packages to work properly with Spark in python is a very hard process and it is not intended full your computer with all these tools (but this is up to you). We have created a jupyter notebook able to install automatically all the necessary packages in Google Colab directly.\n",
        "*   We have uploaded a new Docker version with the new changes and the dataset for the practice. If you want use it please update your corrent version. This docker has all the necessary packages to work properly with Spark. ***Important ***, if you have been working during all the lessons with the Docker and you are confortable using it you can continue in this way but is highly recommended (if you want) start using google colab due to is able to provide you a powerfull machine and GPU capabilities for free.\n",
        "* One manual about how to connect your Google Drive account with Google Colab is coming. it will be available soon if you prefer use Google Colab in order to use a complete Spark environment.\n",
        "\n",
        "Then, in order to work properly create and account in Google Colab and after this you will be able to upload directly these notebooks and the dataset provided using “File/upload notebook”. If you want work in your own computer there are some lines commented in the first Jupyter Notebook that you have change in order to work locally or in Google Colab (these lines are properly commented in the code). If you want install Spark in your computer please ask us to follow the proper steps to do it (not recommended).\n",
        "\n",
        "Finally, after test all these examples, you have to use the provided dataset and use some of the presented methods during the lessons in order to create your own recommendation engine to get the most similar items to the requested item. Remember that this is an open practice and you can use all the things that you want. It is not intended get perfect results only something coherent and if is not working provide all the explanations related to the problems that appeared during the development.\n",
        "\n",
        "The dataset can be downloaded from here:\n",
        "https://github.com/zygmuntz/goodbooks-10k\n",
        "\n",
        "This is a github that contains all the CSV files with all the data. The data is related to books and are provided a lot of punctuations from several persons in a lot of books. The main idea is perform a little EDA (some notebooks to do this are provided in the github) in order to understand all the parameters and data in the dataset. After this you can use the techniques presented during lessons to perform a recommendation using one book name as query.\n",
        "\n",
        "***Reminder***, don't lose time trying to get very good results, only test some methods and your own ideas to try to solve the problem and comment always all the results that you obtain.\n",
        "\n",
        "Finally, you have to upload a Jupyter Notebook with your development, all the graphs (if are available) and your own comments after each result.\n",
        "\n"
      ]
    },
    {
      "cell_type": "markdown",
      "metadata": {
        "id": "OUdXARZrcDT5",
        "colab_type": "text"
      },
      "source": [
        "## Files"
      ]
    },
    {
      "cell_type": "markdown",
      "metadata": {
        "id": "Qw6_PLspL9Yi",
        "colab_type": "text"
      },
      "source": [
        "Before starting to create the model for the recommendations, it is neccessary to understand all the datasets that are available and every possibility to create a recommendation system based on them. The dataset provided is from Goodreads, a \"social cataloging\" website that allows to search in its database some books, annotations and reviews.\n",
        "\n",
        "The initial is step is cleaning the data and what is the data and then create a system based on correlation to shows the results.\n",
        "\n",
        "First, import all the neccessary files and libraries\n",
        "\n"
      ]
    },
    {
      "cell_type": "code",
      "metadata": {
        "id": "z92DYKE0LHm2",
        "colab_type": "code",
        "colab": {}
      },
      "source": [
        "from sklearn.decomposition import TruncatedSVD\n",
        "import pandas as pd\n",
        "import numpy as np\n",
        "import matplotlib.pyplot as plt\n",
        "import warnings\n",
        "import io\n",
        "\n",
        "warnings.filterwarnings(\"ignore\", category=RuntimeWarning)\n",
        "pd.set_option('display.max_columns', 6)\n",
        "\n",
        "# Load files\n",
        "from google.colab import files\n",
        "#uploaded = files.upload()\n",
        "\n",
        "#book_tags = pd.read_csv(io.BytesIO(uploaded['book_tags.csv']), low_memory=False)\n",
        "#books = pd.read_csv(io.BytesIO(uploaded['books.csv']), low_memory=False)\n",
        "#ratings = pd.read_csv(io.BytesIO(uploaded['ratings.csv']), low_memory=False)\n",
        "#tags = pd.read_csv(io.BytesIO(uploaded['tags.csv']), low_memory=False)\n",
        "#to_read = pd.read_csv(io.BytesIO(uploaded['to_read.csv']), low_memory=False)\n",
        "\n",
        "# Upload the files to Colab and read them directly\n",
        "book_tags = pd.read_csv('book_tags.csv')\n",
        "books = pd.read_csv('books.csv')\n",
        "ratings = pd.read_csv('ratings.csv')\n",
        "tags = pd.read_csv('tags.csv')\n",
        "to_read = pd.read_csv('to_read.csv')\n"
      ],
      "execution_count": null,
      "outputs": []
    },
    {
      "cell_type": "markdown",
      "metadata": {
        "id": "sgBBUShuNHQG",
        "colab_type": "text"
      },
      "source": [
        "## Cleaning data"
      ]
    },
    {
      "cell_type": "markdown",
      "metadata": {
        "id": "E29kDWP0NSVp",
        "colab_type": "text"
      },
      "source": [
        "Into the books dataset there are some colums that have NaN values. I do not need these books, because I can not fill the rest of the information without using another dataset, so it is not going to be useful for that case. Looking into the file, there are some wrong values in the 'original_publication_year' (e.: negative values), so I drop these rows."
      ]
    },
    {
      "cell_type": "code",
      "metadata": {
        "id": "qlm1bFcfNUkv",
        "colab_type": "code",
        "colab": {
          "base_uri": "https://localhost:8080/",
          "height": 422
        },
        "outputId": "1a0c5f12-ff1f-4fa5-82da-30541b19db39"
      },
      "source": [
        "books = books.dropna(subset=['original_publication_year', 'isbn'])\n",
        "books = books[(books['original_publication_year'] >= 0) | (books['original_publication_year'].isnull())]\n",
        "print(books.original_publication_year.unique())"
      ],
      "execution_count": null,
      "outputs": [
        {
          "output_type": "stream",
          "text": [
            "[2008. 1997. 2005. 1960. 1925. 2012. 1937. 1951. 2000. 1813. 2003. 2011.\n",
            " 1949. 1945. 1947. 2009. 1999. 1954. 2010. 2002. 1998. 2007. 1595. 1988.\n",
            " 1993. 1950. 1996. 2006. 1868. 1847. 2001. 1953. 1974. 1979. 1932. 1884.\n",
            " 1952. 2015. 1995. 2004. 1969. 1936. 1985. 1818. 1977. 1811. 1946. 1859.\n",
            " 1990. 1964. 1989. 1958. 1973. 1967. 1911. 1891. 1897. 1963. 1844. 2013.\n",
            " 1862. 1961. 1876. 1962. 1991. 1600. 1965. 1939. 1908. 1850. 2014. 1606.\n",
            " 1860. 1955. 1978. 1815. 1877. 1986. 1866. 1922. 1987. 1851. 1982. 1843.\n",
            " 1976. 1994. 1915. 1956. 1980. 1865. 1817. 1957. 1926. 1943. 1938. 1966.\n",
            " 1981. 2016. 1992. 1984. 1972. 1882. 1895. 1899. 1983. 1900. 1975. 1971.\n",
            " 1603. 1929. 1968. 1838. 1942. 1903. 1886. 1940. 1887. 1931. 1814. 1719.\n",
            " 1513. 1880. 1923. 1869. 1849. 1892. 1904. 1726. 1598.  975. 1905. 1935.\n",
            " 1948. 1856. 1759. 1959. 1605. 1901. 1970. 1902. 1390. 1852. 1909. 1920.\n",
            " 1934. 1872. 1894. 1599. 1593. 1831. 1812. 1623. 1854. 1596. 1601. 1941.\n",
            " 1906. 1930. 1916. 1871. 1864. 1320. 1667. 1927. 1874. 1918. 1835. 1883.\n",
            " 1914. 1308. 1881. 1933. 1830. 1678. 1848. 1826. 1912. 1853. 1890. 1928.\n",
            " 1896. 1879. 1819. 1889. 1592. 1855. 1845. 1924. 1944. 1898.  800. 1910.\n",
            "  180. 1919. 1842. 1774. 1808. 1861. 1846.    8. 1604. 1791. 1516. 1917.\n",
            " 1833. 1913. 1519. 1798. 1885. 1840. 1273.  397. 1834. 1857. 1782. 1729.\n",
            " 1651. 1722. 1691. 1893. 1591. 1839. 1762. 1787. 1820. 1645. 1789. 1485.\n",
            " 1353. 1749. 1878. 1776. 1637. 1921. 1781. 1550. 1664. 1832. 1641. 1837.\n",
            " 1888. 1418. 1589. 1594. 1689. 1563. 1597. 1796. 2017. 1767. 1807. 1863.\n",
            " 1907. 1748. 1666. 1764. 1836.  119. 1867. 1841. 1590. 1380. 1554. 1785.\n",
            " 1532. 1677. 1825.]\n"
          ],
          "name": "stdout"
        }
      ]
    },
    {
      "cell_type": "markdown",
      "metadata": {
        "id": "VNrW4Y-gN04o",
        "colab_type": "text"
      },
      "source": [
        "There are two columns for title. I take only \"original_title\" because \"title\" column has unnecessary information. One example for comparison:\n",
        "\n",
        "\n",
        "> original_title: The Hunger Games\n",
        "\n",
        "> title: The Hunger Games (The Hunger Games, #1)\n",
        "\n",
        "Instead of removing NaN values as previous lines, in this case I take values from \"column\" title and insert them into the \"column title\". Following the format of the column, I consider the title only the characters previous to a parenthesis, because the next characters are going to be Volume information or some unnecessary stuff."
      ]
    },
    {
      "cell_type": "code",
      "metadata": {
        "id": "QdCMw7phN_ai",
        "colab_type": "code",
        "colab": {
          "base_uri": "https://localhost:8080/",
          "height": 1108
        },
        "outputId": "d7ee5cd1-7faa-4e8d-8e00-a75e11d2bc89"
      },
      "source": [
        "books['original_title'] = books['original_title'].fillna(books['title'].str.split(\"(\").str[0])\n",
        "print(\"Book title Duplicated: \", books[books.duplicated(subset=['original_title'])].original_title)"
      ],
      "execution_count": null,
      "outputs": [
        {
          "output_type": "stream",
          "text": [
            "Book title Duplicated:  976                         Inferno\n",
            "1226                  The Awakening\n",
            "1463                     Persepolis\n",
            "1960                North and South\n",
            "1973                    Ghost Story\n",
            "2268                       Magician\n",
            "2479                  Into the Wild\n",
            "2683                     Shadowland\n",
            "2704                  The Awakening\n",
            "2780               A Grief Observed\n",
            "2818                           Feed\n",
            "3036            The Tell-Tale Heart\n",
            "3057                           Gone\n",
            "3131                        Fairest\n",
            "3461                          Snuff\n",
            "3604                Northern Lights\n",
            "3798    The Legend of Sleepy Hollow\n",
            "3801                     The Island\n",
            "3886                     The Secret\n",
            "3911                The Beach House\n",
            "3955                          Fever\n",
            "4024                  City of Bones\n",
            "4233                       Twilight\n",
            "4332       The Red Badge of Courage\n",
            "4352              The Sands of Time\n",
            "4435                        Twisted\n",
            "4483    Avatar: The Last Airbender \n",
            "4504           Beautiful Redemption\n",
            "4523             Four Past Midnight\n",
            "4641              Different Seasons\n",
            "                   ...             \n",
            "8587                  City of Glass\n",
            "8679                        Reunion\n",
            "8742    Avatar: The Last Airbender \n",
            "8758                           Dust\n",
            "8793                           Once\n",
            "8871                          Mercy\n",
            "8898                 Selected Poems\n",
            "8968                     Stone Soup\n",
            "9046                     The Search\n",
            "9149                        Perfect\n",
            "9158            Simply Irresistible\n",
            "9250                          Lucky\n",
            "9267                        Imajica\n",
            "9279                               \n",
            "9313                           Burn\n",
            "9317                   The Guardian\n",
            "9334                        Abandon\n",
            "9365                       The Gift\n",
            "9430                      The Chase\n",
            "9499                         Heaven\n",
            "9530                          Crush\n",
            "9610                  All Fall Down\n",
            "9698                        Nemesis\n",
            "9759                   The Covenant\n",
            "9763                 The Negotiator\n",
            "9783                 Selected Poems\n",
            "9804                    Open Season\n",
            "9812                        Perfect\n",
            "9925                         Hidden\n",
            "9975                      Sea Glass\n",
            "Name: original_title, Length: 127, dtype: object\n"
          ],
          "name": "stdout"
        }
      ]
    },
    {
      "cell_type": "markdown",
      "metadata": {
        "id": "jODiCh1iOE9r",
        "colab_type": "text"
      },
      "source": [
        "Checking the file I find that some titles contains strange values and in some of them, the complete title it is formed by strange characters. In this case, for a good recommendation, I remove books which contains some of the wrong characters that I have found. I prefer to have several lines to clarify the idea and avoid misunderstanding on the program."
      ]
    },
    {
      "cell_type": "code",
      "metadata": {
        "id": "i6vkOewgOLMi",
        "colab_type": "code",
        "colab": {}
      },
      "source": [
        "books = books[~books['original_title'].str.contains(\"01-11-2009\")]\n",
        "books = books[~books['original_title'].str.contains(\"Ø\")]\n",
        "books = books[~books['original_title'].str.contains(\"§\")]\n",
        "books = books[~books['original_title'].str.contains(\"Ã\")]\n",
        "books = books[~books['original_title'].str.contains(\"©\")]\n",
        "books = books[~books['original_title'].str.contains(\"¼\")]\n",
        "books = books[~books['original_title'].str.contains(\"Ù\")]\n",
        "books = books[~books['original_title'].str.contains(\"Ú\")]\n",
        "books = books[~books['original_title'].str.contains(\"¶\")]\n",
        "# It could be done in a simple way (see below), but for better visualization I leave the above lines\n",
        "# books = books[~books['original_title'].str.contains(\"01-11-2009|Ø|§|Ã|©|¼|Ù|Ú|¶\")]"
      ],
      "execution_count": null,
      "outputs": []
    },
    {
      "cell_type": "markdown",
      "metadata": {
        "id": "Zh_yEp-aOrls",
        "colab_type": "text"
      },
      "source": [
        "I considered to remove books that have less than 1000 ratings count, because there were too many books with wrong information. It is good mention that this books exclusion is less than 10% of all the dataset."
      ]
    },
    {
      "cell_type": "code",
      "metadata": {
        "id": "nkwLx9huOyLB",
        "colab_type": "code",
        "colab": {}
      },
      "source": [
        "books = books[(books['ratings_count'] >= 10000)]"
      ],
      "execution_count": null,
      "outputs": []
    },
    {
      "cell_type": "markdown",
      "metadata": {
        "id": "_MaxHQV4QXk3",
        "colab_type": "text"
      },
      "source": [
        "The final check consist on see if there is any duplicated value in Book ID or titles.\n",
        "\n",
        "There is no Book ID duplicated, so I do not have to manipulate the dataset, but there are some titles duplicated due to different authors and remakes of ancient titles, and that could be a problem later when creating correlation matrix, so I remove them."
      ]
    },
    {
      "cell_type": "code",
      "metadata": {
        "id": "5_U8Y3t8Qiqy",
        "colab_type": "code",
        "colab": {
          "base_uri": "https://localhost:8080/",
          "height": 140
        },
        "outputId": "2e40d4fd-b01c-4dbb-a7b9-5576cf7f8db3"
      },
      "source": [
        "print(\"Book ID Duplicated: \", books[books.duplicated(subset=['book_id'])].book_id)\n",
        "print(\"original_title Duplicated: \", books[books.duplicated(subset=['original_title'])].original_title.head())"
      ],
      "execution_count": null,
      "outputs": [
        {
          "output_type": "stream",
          "text": [
            "Book ID Duplicated:  Series([], Name: book_id, dtype: int64)\n",
            "original_title Duplicated:  976             Inferno\n",
            "1226      The Awakening\n",
            "1463         Persepolis\n",
            "1960    North and South\n",
            "1973        Ghost Story\n",
            "Name: original_title, dtype: object\n"
          ],
          "name": "stdout"
        }
      ]
    },
    {
      "cell_type": "markdown",
      "metadata": {
        "id": "6YtQpfRmQpC1",
        "colab_type": "text"
      },
      "source": [
        "Finally drop unnecessary columns and show the books dataset after cleaning"
      ]
    },
    {
      "cell_type": "code",
      "metadata": {
        "id": "2A2DO1ZZQwL4",
        "colab_type": "code",
        "colab": {
          "base_uri": "https://localhost:8080/",
          "height": 281
        },
        "outputId": "009569e7-60be-4045-99ec-ac0d2bb64bbe"
      },
      "source": [
        "books = books.drop(['work_id', 'isbn13', 'title', 'language_code', 'work_ratings_count',\n",
        "                    'work_text_reviews_count', 'image_url', 'small_image_url', 'books_count',\n",
        "                    'ratings_1', 'ratings_2', 'ratings_3', 'ratings_4', 'ratings_5', 'best_book_id',\n",
        "                    'goodreads_book_id', 'isbn'], axis=1)\n",
        "\n",
        "print(books.columns.values)\n",
        "print(books.head())"
      ],
      "execution_count": null,
      "outputs": [
        {
          "output_type": "stream",
          "text": [
            "['book_id' 'authors' 'original_publication_year' 'original_title'\n",
            " 'average_rating' 'ratings_count']\n",
            "   book_id                      authors  original_publication_year  \\\n",
            "0        1              Suzanne Collins                     2008.0   \n",
            "1        2  J.K. Rowling, Mary GrandPré                     1997.0   \n",
            "2        3              Stephenie Meyer                     2005.0   \n",
            "3        4                   Harper Lee                     1960.0   \n",
            "4        5          F. Scott Fitzgerald                     1925.0   \n",
            "\n",
            "                             original_title  average_rating  ratings_count  \n",
            "0                          The Hunger Games            4.34        4780653  \n",
            "1  Harry Potter and the Philosopher's Stone            4.44        4602479  \n",
            "2                                  Twilight            3.57        3866839  \n",
            "3                     To Kill a Mockingbird            4.25        3198671  \n",
            "4                          The Great Gatsby            3.89        2683664  \n"
          ],
          "name": "stdout"
        }
      ]
    },
    {
      "cell_type": "markdown",
      "metadata": {
        "id": "LBVM6WJMRQ44",
        "colab_type": "text"
      },
      "source": [
        "Checking rating distribution shows that is more common to have higher ratings"
      ]
    },
    {
      "cell_type": "code",
      "metadata": {
        "id": "-tJ-LlBLRM1e",
        "colab_type": "code",
        "colab": {
          "base_uri": "https://localhost:8080/",
          "height": 325
        },
        "outputId": "7528d72e-d48c-4602-e55b-2e6b7d203608"
      },
      "source": [
        "plt.rc(\"font\", size=15)\n",
        "ratings['rating'].value_counts(sort=False).plot(kind='bar')\n",
        "plt.title('Rating Distribution\\n')\n",
        "plt.xlabel('Rating')\n",
        "plt.ylabel('Count')\n",
        "plt.show()"
      ],
      "execution_count": null,
      "outputs": [
        {
          "output_type": "display_data",
          "data": {
            "image/png": "[encoded data removed]",
            "text/plain": [
              "<Figure size 432x288 with 1 Axes>"
            ]
          },
          "metadata": {
            "tags": []
          }
        }
      ]
    },
    {
      "cell_type": "markdown",
      "metadata": {
        "id": "9FOu7-NURflX",
        "colab_type": "text"
      },
      "source": [
        "## Collaborative Filtering"
      ]
    },
    {
      "cell_type": "markdown",
      "metadata": {
        "id": "U6EOnaBJR2SV",
        "colab_type": "text"
      },
      "source": [
        "I merge the \"ratings\" dataframe and \"books\" dataframe in order to know all the information for each book rated for every user.\n",
        "\n",
        "As I said before, it is needed to remove title duplicates for creating the next matrices."
      ]
    },
    {
      "cell_type": "code",
      "metadata": {
        "id": "aiSaGGT7Rj1M",
        "colab_type": "code",
        "colab": {
          "base_uri": "https://localhost:8080/",
          "height": 298
        },
        "outputId": "8cb1cf00-b1d4-4663-885b-effbb475f806"
      },
      "source": [
        "combine_book_rating = pd.merge(ratings, books, on='book_id')\n",
        "combine_book_rating = combine_book_rating.drop_duplicates(['user_id', 'original_title'])\n",
        "\n",
        "print(combine_book_rating.head())\n",
        "print(list(combine_book_rating.columns.values))"
      ],
      "execution_count": null,
      "outputs": [
        {
          "output_type": "stream",
          "text": [
            "   user_id  book_id  rating      ...             original_title  \\\n",
            "0        1      258       5      ...       La sombra del viento   \n",
            "1       11      258       3      ...       La sombra del viento   \n",
            "2      143      258       4      ...       La sombra del viento   \n",
            "3      242      258       5      ...       La sombra del viento   \n",
            "4      325      258       4      ...       La sombra del viento   \n",
            "\n",
            "   average_rating ratings_count  \n",
            "0            4.24        263685  \n",
            "1            4.24        263685  \n",
            "2            4.24        263685  \n",
            "3            4.24        263685  \n",
            "4            4.24        263685  \n",
            "\n",
            "[5 rows x 8 columns]\n",
            "['user_id', 'book_id', 'rating', 'authors', 'original_publication_year', 'original_title', 'average_rating', 'ratings_count']\n"
          ],
          "name": "stdout"
        }
      ]
    },
    {
      "cell_type": "markdown",
      "metadata": {
        "id": "80UnogEMpGqw",
        "colab_type": "text"
      },
      "source": [
        "I get the rating matrix for users in columns, and titles as index"
      ]
    },
    {
      "cell_type": "code",
      "metadata": {
        "id": "bnnu60NOSeAe",
        "colab_type": "code",
        "colab": {
          "base_uri": "https://localhost:8080/",
          "height": 334
        },
        "outputId": "15fc1000-cd51-49de-8fbf-632f49557514"
      },
      "source": [
        "combine_book_rating_pivot = combine_book_rating.pivot(index='original_title', columns='user_id',\n",
        "                                                      values='rating').fillna(0)\n",
        "\n",
        "print(combine_book_rating_pivot.head())\n",
        "print(\"Shape of combine_book_rating_pivot\", combine_book_rating_pivot.shape)"
      ],
      "execution_count": null,
      "outputs": [
        {
          "output_type": "stream",
          "text": [
            "user_id                                             1      2      3      \\\n",
            "original_title                                                            \n",
            "                                                      0.0    0.0    0.0   \n",
            " A Monster Calls                                      0.0    0.0    0.0   \n",
            " Animal Farm & 1984                                   0.0    0.0    0.0   \n",
            " Burned (Burned, #1)                                  0.0    0.0    0.0   \n",
            " Call the midwife : a true story of the East En...    0.0    0.0    0.0   \n",
            "\n",
            "user_id                                             ...    37076  41961  42208  \n",
            "original_title                                      ...                         \n",
            "                                                    ...      0.0    0.0    0.0  \n",
            " A Monster Calls                                    ...      0.0    0.0    0.0  \n",
            " Animal Farm & 1984                                 ...      0.0    0.0    0.0  \n",
            " Burned (Burned, #1)                                ...      0.0    0.0    0.0  \n",
            " Call the midwife : a true story of the East En...  ...      0.0    0.0    0.0  \n",
            "\n",
            "[5 rows x 13115 columns]\n",
            "Shape of combine_book_rating_pivot (6972, 13115)\n"
          ],
          "name": "stdout"
        }
      ]
    },
    {
      "cell_type": "markdown",
      "metadata": {
        "id": "uMVGNJSxrcpj",
        "colab_type": "text"
      },
      "source": [
        "I use the library \"TruncatedSVD\" from sklearn for dimensionality reduction and fit it to a model. From a shape of more than 13k components, I obtain 12 latent variables.\n",
        "\n",
        "Finally a create a correlation matrix based on correlation coefficients between books."
      ]
    },
    {
      "cell_type": "code",
      "metadata": {
        "id": "cAzF6_wBrait",
        "colab_type": "code",
        "colab": {
          "base_uri": "https://localhost:8080/",
          "height": 34
        },
        "outputId": "510bbbf9-a05d-4154-f0d7-648e6e21425d"
      },
      "source": [
        "SVD = TruncatedSVD(n_components=12, random_state=17)\n",
        "matrix = SVD.fit_transform(combine_book_rating_pivot)\n",
        "print(\"Shape of matrix\", matrix.shape)\n",
        "\n",
        "corr = np.corrcoef(matrix)"
      ],
      "execution_count": null,
      "outputs": [
        {
          "output_type": "stream",
          "text": [
            "Shape of matrix (6972, 12)\n"
          ],
          "name": "stdout"
        }
      ]
    },
    {
      "cell_type": "markdown",
      "metadata": {
        "id": "Tn3soeTHtE4c",
        "colab_type": "text"
      },
      "source": [
        "In order to show the recommendation for books, I create a list of all the remaining titles in the dataframe. To check the correct working of the system, I select the book \"The Hobbit or There and Back Again\". The system should recommend some novels of Tolkien based on the Middle Age series."
      ]
    },
    {
      "cell_type": "code",
      "metadata": {
        "id": "jeTXNpfNSkku",
        "colab_type": "code",
        "colab": {}
      },
      "source": [
        "book_title = combine_book_rating_pivot.index\n",
        "book_list = list(book_title)\n",
        "book = book_list.index(\"The Hobbit or There and Back Again\")"
      ],
      "execution_count": null,
      "outputs": []
    },
    {
      "cell_type": "markdown",
      "metadata": {
        "id": "19RemeorSnUA",
        "colab_type": "text"
      },
      "source": [
        "I only want the best recommendation books, so I only take those titles with a correlation value above 0.9."
      ]
    },
    {
      "cell_type": "code",
      "metadata": {
        "id": "VqhmDUktSqYG",
        "colab_type": "code",
        "colab": {}
      },
      "source": [
        "result_corr = corr[book]\n",
        "result_list = list(book_title[(result_corr >= 0.9)])"
      ],
      "execution_count": null,
      "outputs": []
    },
    {
      "cell_type": "markdown",
      "metadata": {
        "id": "EbokUgWfSuqA",
        "colab_type": "text"
      },
      "source": [
        "Create a dictionary to store the title books with the correlation value"
      ]
    },
    {
      "cell_type": "code",
      "metadata": {
        "id": "9N_URko_SwIA",
        "colab_type": "code",
        "colab": {}
      },
      "source": [
        "result_dict = {}\n",
        "for i in range(0, len(result_list)):\n",
        "    result_dict[corr[book, book_list.index(result_list[i])]] = result_list[i]"
      ],
      "execution_count": null,
      "outputs": []
    },
    {
      "cell_type": "markdown",
      "metadata": {
        "id": "55pa1I2fSyF9",
        "colab_type": "text"
      },
      "source": [
        "As said before, I print the recommendations for the specified book and the first recommendation is \"The Fellowship of the Ring\", one of the books from Tolkien's Middle Age novels. The system seems to be working properly."
      ]
    },
    {
      "cell_type": "code",
      "metadata": {
        "id": "mntdJy6CSzwk",
        "colab_type": "code",
        "colab": {
          "base_uri": "https://localhost:8080/",
          "height": 122
        },
        "outputId": "7bc0a9c5-444e-438c-a27f-757426d52dd6"
      },
      "source": [
        "for key, loop in zip(sorted(result_dict, reverse=True), range(0, 11)):\n",
        "    if loop == 0:\n",
        "        print(\"Recommendations for the book '{0}':\".format(result_dict[key]))\n",
        "    else:\n",
        "        print(\"{0}: {1}\".format(result_dict[key], key))"
      ],
      "execution_count": null,
      "outputs": [
        {
          "output_type": "stream",
          "text": [
            "Recommendations for the book 'The Hobbit or There and Back Again':\n",
            " The Fellowship of the Ring: 0.9895930267492073\n",
            "The Hitchhiker's Guide to the Galaxy: 0.9323305904731823\n",
            "The Princess Bride: 0.9257290088733875\n",
            "Northern Lights: 0.9216944132971345\n",
            "Ender's Game: 0.9109579308498627\n"
          ],
          "name": "stdout"
        }
      ]
    },
    {
      "cell_type": "markdown",
      "metadata": {
        "id": "Iu2hS9v_T6su",
        "colab_type": "text"
      },
      "source": [
        "Finally, I test for random books. Sometimes the system recommends more than 10 books, so I only take the most correlated of them\n"
      ]
    },
    {
      "cell_type": "code",
      "metadata": {
        "id": "CfEsjQkYUCGI",
        "colab_type": "code",
        "colab": {
          "base_uri": "https://localhost:8080/",
          "height": 210
        },
        "outputId": "2a6f5fd0-d22b-4f21-b298-5962603fc2e7"
      },
      "source": [
        "book = book_list.index(np.random.choice(book_list))\n",
        "\n",
        "result_corr = corr[book]\n",
        "result_list = list(book_title[(result_corr >= 0.9)])\n",
        "\n",
        "result_dict = {}\n",
        "for i in range(0, len(result_list)):\n",
        "    result_dict[corr[book, book_list.index(result_list[i])]] = result_list[i]\n",
        "\n",
        "for key, loop in zip(sorted(result_dict, reverse=True), range(0, 11)):\n",
        "    if loop == 0:\n",
        "        print(\"Recommendations for the book '{0}':\".format(result_dict[key]))\n",
        "    else:\n",
        "        print(\"{0}: {1}\".format(result_dict[key], key))"
      ],
      "execution_count": null,
      "outputs": [
        {
          "output_type": "stream",
          "text": [
            "Recommendations for the book 'Murder in the Calais Coach':\n",
            "The Murder of Roger Ackroyd: 0.9894859742863298\n",
            "Death on the Nile: 0.9866823416584527\n",
            "Ten Little Niggers: 0.9632630936968509\n",
            "The Mysterious Affair at Styles: 0.9612036449226357\n",
            "The ABC Murders: 0.9601989003075054\n",
            "The Hound of the Baskervilles: 0.9565847219979062\n",
            "Le Fantôme de l'Opéra: 0.9524887786149593\n",
            "Oliver Twist: 0.950694784682697\n",
            "A Christmas Carol: 0.9503138859787081\n",
            "Treasure Island: 0.9496711667609571\n"
          ],
          "name": "stdout"
        }
      ]
    }
  ]
}